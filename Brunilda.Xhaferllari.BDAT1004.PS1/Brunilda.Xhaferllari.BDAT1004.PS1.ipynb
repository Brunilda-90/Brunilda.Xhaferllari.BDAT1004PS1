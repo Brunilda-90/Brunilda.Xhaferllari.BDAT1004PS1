{
 "cells": [
  {
   "cell_type": "markdown",
   "metadata": {},
   "source": [
    "# Question 1\n"
   ]
  },
  {
   "cell_type": "markdown",
   "metadata": {},
   "source": [
    "Below is the table with the Data Type requested:\n",
    "\n",
    "|Requested           | Data Type                             |                         \n",
    "| :---               |-----------------:                     |          \n",
    "| 5                  | Integer                               |        \n",
    "| 5.0                | Float,Decimal                         |  \n",
    "| 5 > 1              | Boolean                               | \n",
    "| '5'                | Character, String                     |\n",
    "| 5 * 2              | Integer                               |\n",
    "| '5' * 2            | String                                |\n",
    "| '5' + '2'          | String                                |\n",
    "|5 / 2               | Float                                 |\n",
    "|5 // 2              | Integer                               |\n",
    "|[5, 2, 1]           | Integer, in Python list               |\n",
    "|5 in [1, 4, 6]      | Boolean                               |\n",
    "|Pi                  | math.pi type is Float                 |\n",
    "\n"
   ]
  },
  {
   "cell_type": "code",
   "execution_count": 2,
   "metadata": {},
   "outputs": [
    {
     "name": "stdout",
     "output_type": "stream",
     "text": [
      "<class 'int'>\n",
      "<class 'float'>\n",
      "<class 'bool'>\n",
      "<class 'str'>\n",
      "<class 'int'>\n",
      "<class 'str'>\n",
      "<class 'str'>\n",
      "<class 'float'>\n",
      "<class 'int'>\n",
      "<class 'list'>\n",
      "<class 'bool'>\n",
      "<class 'list'>\n",
      "<class 'float'>\n"
     ]
    }
   ],
   "source": [
    "#Solution in Python:\n",
    "print(type(5)) \n",
    "print(type(5.0))\n",
    "print(type(5 > 1))\n",
    "print(type('5'))\n",
    "print(type(5 * 2))\n",
    "print(type('5' * 2))\n",
    "print(type('5' + '2'))\n",
    "print(type(5 / 2))\n",
    "print(type(5 // 2))\n",
    "print(type([5, 2, 1]))\n",
    "print(type(5 in [1, 4, 6]))\n",
    "print(type([5, 2, 1]))\n",
    "import math; print(type(math.pi))"
   ]
  },
  {
   "cell_type": "markdown",
   "metadata": {},
   "source": [
    " Solution in c#:\n",
    " \n",
    "            int x = 5;\n",
    "            Console.WriteLine(x.GetType());\n",
    "            double x1 = 5.0;\n",
    "            Console.WriteLine(x1.GetType());\n",
    "            bool x2 = 5 > 1;\n",
    "            Console.WriteLine(x2.GetType());\n",
    "            string x3 = \"5\";\n",
    "            Console.WriteLine(x3.GetType());\n",
    "            /* assign value the variable and check the Type */\n",
    "            string a1 = \"5\"; int a2 = 2;\n",
    "            var x4 = a1 + a2;\n",
    "            Console.WriteLine(x4.GetType());\n",
    "            int a3 = 5; int a4 = 2;\n",
    "            var x5 = a3 * a4;\n",
    "            Console.WriteLine(x5.GetType());\n",
    "            string a5 = \"5\"; string a6 = \"2\";\n",
    "            var x6 = \"a5 * a6\";\n",
    "            Console.WriteLine(x6.GetType());\n",
    "            int a7 = 5; int a8 = 2;\n",
    "            var x7 = a7 / a8;\n",
    "            Console.WriteLine(x7.GetType());\n",
    "            var x8 = a7 % a8;\n",
    "            Console.WriteLine(x8.GetType());\n",
    "            double pi = Math.PI;\n",
    "            Console.WriteLine(pi.GetType());"
   ]
  },
  {
   "cell_type": "markdown",
   "metadata": {},
   "source": [
    "\n",
    "<center><img src=\"pictures\\Pic1.png\"></center>\n",
    "\n"
   ]
  },
  {
   "cell_type": "markdown",
   "metadata": {},
   "source": [
    "# Question 2\n"
   ]
  },
  {
   "cell_type": "code",
   "execution_count": null,
   "metadata": {},
   "outputs": [],
   "source": [
    "#2.a Response: 34 letters\n",
    "\n",
    "string myText = \"Supercalifragilisticexpialidocious\";\n",
    "Console.WriteLine(\"The numer of letters for the text is: \" + myText.Length);"
   ]
  },
  {
   "cell_type": "markdown",
   "metadata": {},
   "source": [
    "\n",
    "<img src=\"pictures\\Pic2.png\">"
   ]
  },
  {
   "cell_type": "code",
   "execution_count": null,
   "metadata": {},
   "outputs": [],
   "source": [
    "#2.b Response: True\n",
    "    \n",
    "string myText = \"Supercalifragilisticexpialidocious\";\n",
    "Console.WriteLine(myText.Contains(\"ice\"));"
   ]
  },
  {
   "cell_type": "markdown",
   "metadata": {},
   "source": [
    "<img src=\"pictures\\Pic3.png\">"
   ]
  },
  {
   "cell_type": "code",
   "execution_count": null,
   "metadata": {},
   "outputs": [],
   "source": [
    " #2.c Response: The first and the third have equal and contain more letters than the second(34 letters)      \n",
    "string myText =  \"Supercalifragilisticexpialidocious\";\n",
    "string myText2 = \"Honorificabilitudinitatibus\";\n",
    "string myText3 = \"Bababadalgharaghtakamminarronnkonn\";\n",
    "\n",
    "Console.WriteLine(myText.Length);\n",
    "Console.WriteLine(myText2.Length);\n",
    "Console.WriteLine(myText3.Length);"
   ]
  },
  {
   "cell_type": "markdown",
   "metadata": {},
   "source": [
    "<img src=\"pictures\\Pic4.png\">"
   ]
  },
  {
   "cell_type": "code",
   "execution_count": null,
   "metadata": {},
   "outputs": [],
   "source": [
    "#2.d Response: First composer is Bartok and last Bruxtehude\n",
    "string[] composer = { \"Berlioz\", \"Borodin\", \"Brian\", \"Bartok\", \"Bellini\", \"Buxtehude\", \"Bernstein\" };\n",
    "\n",
    "Array.Sort(composer);\n",
    "foreach (string i in composer)\n",
    "Console.WriteLine(i);"
   ]
  },
  {
   "cell_type": "markdown",
   "metadata": {},
   "source": [
    "<img src=\"pictures\\Pic5.png\">"
   ]
  },
  {
   "cell_type": "markdown",
   "metadata": {},
   "source": [
    "# Question 3 "
   ]
  },
  {
   "cell_type": "code",
   "execution_count": null,
   "metadata": {},
   "outputs": [],
   "source": [
    "#Response: if a=2,b=2,c=2 the area with the Herold formula will be as follwing:\n",
    "double a = 2;\n",
    "double b = 2;\n",
    "double c = 2;\n",
    "double s = ((a + b + c) / 2);\n",
    "double area = Math.Sqrt(s * (s - a) * (s - b) * (s - c));\n",
    "Console.WriteLine(area);"
   ]
  },
  {
   "cell_type": "markdown",
   "metadata": {},
   "source": [
    "<img src=\"pictures\\Pic6.png\">"
   ]
  },
  {
   "cell_type": "markdown",
   "metadata": {},
   "source": [
    "# Question 4"
   ]
  },
  {
   "cell_type": "code",
   "execution_count": null,
   "metadata": {},
   "outputs": [],
   "source": [
    "#The odd element are :25 and 47\n",
    "#The even element are: 42,56,32 \n",
    "\n",
    "int[] element = new int[5] {25,47,42,56,32 };\n",
    "            Console.WriteLine(\"Test Data:\");\n",
    "            Console.WriteLine(\"\\n Input the number of elements to be stored in the array: \" + element.Length);\n",
    "            Console.WriteLine(element.Length);\n",
    "            Console.WriteLine(\"Input {0} elements in the arary: \\n\", element.Length);\n",
    "\n",
    "            for (int i = 0; i < element.Length; i++)\n",
    "            {\n",
    "                if (element[i]%2==0)\n",
    "                {\n",
    "                    Console.WriteLine(\"The even element are: \" + element[i]);\n",
    "                }\n",
    "                else\n",
    "                {\n",
    "                    Console.WriteLine(\"The odd element are: \" + element[i]);\n",
    "                }\n",
    "            } Console.ReadLine();"
   ]
  },
  {
   "cell_type": "markdown",
   "metadata": {},
   "source": [
    "<img src=\"pictures\\Pic7.png\">"
   ]
  },
  {
   "cell_type": "markdown",
   "metadata": {},
   "source": [
    "# Question 5\n"
   ]
  },
  {
   "cell_type": "code",
   "execution_count": null,
   "metadata": {},
   "outputs": [],
   "source": [
    "//5.a Question:\n",
    "static bool Point(int x1, int y1, int x2,\n",
    "                      int y2, int x, int y)\n",
    "        {\n",
    "            if ((x > x1) && (x < x2) && (y > y1) && (y < y2))\n",
    "                return true;\n",
    "            {\n",
    "                return false;\n",
    "            }\n",
    "            \n",
    "        }\n",
    "                 static void Main(string[] args)\n",
    "        {\n",
    "            \n",
    "            {\n",
    "                // the coordinate point of rectangle and the function\n",
    "                // (x,y)=(1,1)\n",
    "                int  x= 1, y = 1, x1 = 0, y1 = 0,x2 = 2, y2 = 3;\n",
    "                  Console.WriteLine(\"inside\" + (x, y, x1, y1, x2, y2));\n",
    "             if ((x > x1) && (x < x2) && (y > y1) && (y < y2))\n",
    "\n",
    "                {\n",
    "                    Console.Write(true);\n",
    "                }\n",
    "\n",
    "                else\n",
    "                {\n",
    "                    Console.Write(false);\n",
    "                }\n",
    "                    \n",
    "                // (x,y)=(-1,-1)\n",
    "            }\n",
    "            \n",
    "            {\n",
    "                int x = -1, y = -1, x1 = 0, y1 = 0, x2 = 2, y2 = 3;\n",
    "\n",
    "                 Console.WriteLine(\"inside\"+( x,y,x1,y1,x2,y2));\n",
    "\n",
    "                if ((x > x1) && (x < x2) && (y > y1) && (y < y2))\n",
    "                {\n",
    "                    Console.Write(true);\n",
    "                }\n",
    "                else\n",
    "                {\n",
    "                    Console.Write(false);\n",
    "                }                       "
   ]
  },
  {
   "cell_type": "markdown",
   "metadata": {},
   "source": [
    "<img src=\"pictures\\Pic8.png\">"
   ]
  },
  {
   "cell_type": "code",
   "execution_count": null,
   "metadata": {},
   "outputs": [],
   "source": [
    "//5.b\n",
    "        static bool Point(int x1, int y1, int x2,\n",
    "                      int y2, int x, int y)\n",
    "        {\n",
    "            if ((x > x1) && (x < x2) && (y > y1) && (y < y2))\n",
    "                return true;\n",
    "            {\n",
    "                return false;\n",
    "            }\n",
    "            \n",
    "        }\n",
    "                 static void Main(string[] args)\n",
    "        {\n",
    "            \n",
    "            {\n",
    "                // the coordinate point of rectangle and the function\n",
    "                // (x,y)=(1,1)\n",
    "                double  x= 1, y = 1, x1 = 0.3, y1 = 0.5,x2 = 1.1, y2 = 0.7;\n",
    "                  Console.WriteLine(\"inside\" + (x, y, x1, y1, x2, y2));\n",
    "             if ((x > x1) && (x < x2) && (y > y1) && (y < y2))\n",
    "\n",
    "                {\n",
    "                    Console.Write(true);\n",
    "                }\n",
    "\n",
    "                else\n",
    "                {\n",
    "                    Console.Write(false);\n",
    "                }\n",
    "                    \n",
    "                // (x,y)=(-1,-1)\n",
    "            }\n",
    "            \n",
    "            {\n",
    "                double x = 1, y = 1, x1 = 0.5, y1 = 0.2, x2 = 1.1, y2 =2;\n",
    "\n",
    "                 Console.WriteLine(\"inside\"+( x,y,x1,y1,x2,y2));\n",
    "\n",
    "                if ((x > x1) && (x < x2) && (y > y1) && (y < y2))\n",
    "                {\n",
    "                    Console.Write(true);\n",
    "                }\n",
    "                else\n",
    "                {\n",
    "                    Console.Write(false);\n",
    "                }"
   ]
  },
  {
   "cell_type": "markdown",
   "metadata": {},
   "source": [
    "<img src=\"pictures\\Pic9.png\">"
   ]
  },
  {
   "cell_type": "markdown",
   "metadata": {},
   "source": [
    "# Question 6"
   ]
  },
  {
   "cell_type": "code",
   "execution_count": 26,
   "metadata": {},
   "outputs": [
    {
     "name": "stdout",
     "output_type": "stream",
     "text": [
      "First letter is consonant:h\n",
      "The pig_latin word is:appyhay\n",
      "First letter is vowel:E\n",
      "The pig_latin word is:enterway\n"
     ]
    }
   ],
   "source": [
    "vowel=[\"A\",\"E\",\"I\",\"O\",\"U\"]\n",
    "my_phrase=\"happy\"\n",
    "first_letter=my_phrase[0]\n",
    "length_phrase=len (my_phrase)\n",
    "if first_letter not in vowel:\n",
    "    print(\"First letter is consonant:\"+first_letter)\n",
    "    removeFirstLetter=my_phrase[1:length_phrase]\n",
    "    pig=removeFirstLetter+first_letter+\"ay\"\n",
    "    print(\"The pig_latin word is:\"+pig)\n",
    "    \n",
    "else:\n",
    "    print(\"First letter is vowel:\"+first_letter)\n",
    "    pig=my_phrase+\"way\"\n",
    "    print(\"The pig_latin word is:\"+pig);\n",
    "    \n",
    "my_phrase1=\"Enter\"\n",
    "first_letter1=my_phrase1[0]\n",
    "length_phrase1=len (my_phrase1)\n",
    "if first_letter1 not in vowel:\n",
    "    print(\"First letter is consonant:\"+first_letter1)\n",
    "    removeFirstLetter=my_phrase1[1:length_phrase1]\n",
    "    pig=removeFirstLetter+first_letter1+\"ay\"\n",
    "    print(\"The pig_latin word is:\"+pig.lower())\n",
    "    \n",
    "else:\n",
    "    print(\"First letter is vowel:\"+first_letter1)\n",
    "    pig=my_phrase1+\"way\"\n",
    "    print(\"The pig_latin word is:\"+pig.lower());\n"
   ]
  },
  {
   "cell_type": "markdown",
   "metadata": {},
   "source": [
    "# Question 7"
   ]
  },
  {
   "cell_type": "code",
   "execution_count": 140,
   "metadata": {},
   "outputs": [
    {
     "name": "stdout",
     "output_type": "stream",
     "text": [
      "['AB', 'AB', 'B', 'O', 'A', 'A', 'AB', 'O', 'AB', 'A', 'O', 'O', 'A', 'A', 'A', 'O', 'O', 'O', 'AB', 'O', 'A', 'A', 'A', 'A', 'A', 'AB', 'AB', 'A', 'AB', 'O', 'AB', 'O', 'A', 'O', 'O', 'O', 'AB', 'O', 'AB', 'AB', 'AB', 'A', 'A', 'O']\n",
      "There are  15  patients of blood type A.\n",
      "There is one patient of blood type B.\n",
      "There are  13  patients of blood type AB.\n",
      "There are  15  patients of blood type O.\n",
      "There is one patient of blood type OO.\n"
     ]
    }
   ],
   "source": [
    "name = open('bloodtype1.txt','r')\n",
    "element=name.read()\n",
    "records=element.split()\n",
    "print(records)\n",
    "n1 = records.count('A')\n",
    "n2 = records.count('B')\n",
    "n3 = records.count('AB')\n",
    "n4 = records.count('O')\n",
    "n5 = records.count('OO')\n",
    "\n",
    "\n",
    "if (n1>1):\n",
    " print(\"There are \",n1,\" patients of blood type A.\")\n",
    "else : print(\"There is one patient of blood type A.\")\n",
    "if (n2>1):\n",
    " print(\"There are \",n2,\" patients of blood type B.\")\n",
    "else : print(\"There is one patient of blood type B.\")     \n",
    "   \n",
    "if (n3>1):\n",
    " print(\"There are \",n3,\" patients of blood type AB.\")\n",
    "else : print(\"There is one patient of blood type AB.\")  \n",
    "if (n4>1):\n",
    " print(\"There are \",n4,\" patients of blood type O.\")\n",
    "else : print(\"There is one patient of blood type O.\")  \n",
    "\n",
    "if (n5>1):\n",
    " print(\"There are \",n5,\" patients of blood type OO.\")\n",
    "else : print(\"There is one patient of blood type OO.\") \n"
   ]
  },
  {
   "cell_type": "markdown",
   "metadata": {},
   "source": [
    "# Question 8"
   ]
  },
  {
   "cell_type": "code",
   "execution_count": 14,
   "metadata": {},
   "outputs": [
    {
     "name": "stdout",
     "output_type": "stream",
     "text": [
      "Amount to convert:100\n",
      "Euro or Yen:Euro\n",
      "Amount 122.96544  dollars\n"
     ]
    }
   ],
   "source": [
    "# Convert from Euro to Dollars\n",
    "currency =int(input(\"Amount to convert:\"))\n",
    "unit=input(\"Euro or Yen:\")\n",
    "if unit==\"Euro\":\n",
    "    converted=currency*1.2296544\n",
    "    print(\"Amount\",converted,\" dollars\")\n",
    "else:\n",
    "    converted=currency*0.01241401\n",
    "    print(\"Amount\",converted,\"dollars\")\n",
    "\n",
    "\n",
    "\n"
   ]
  },
  {
   "cell_type": "code",
   "execution_count": 15,
   "metadata": {},
   "outputs": [
    {
     "name": "stdout",
     "output_type": "stream",
     "text": [
      "Amount to convert:100\n",
      "Euro or Yen:Yen\n",
      "Amount 1.241401 dollars\n"
     ]
    }
   ],
   "source": [
    "# Convert from Yen to Dollars\n",
    "currency =int(input(\"Amount to convert:\"))\n",
    "unit=input(\"Euro or Yen:\")\n",
    "if unit==\"Euro\":\n",
    "    converted=currency*1.2296544\n",
    "    print(\"Amount\",converted,\" dollars\")\n",
    "else:\n",
    "    converted=currency*0.01241401\n",
    "    print(\"Amount\",converted,\"dollars\")\n"
   ]
  },
  {
   "cell_type": "markdown",
   "metadata": {},
   "source": [
    "# Question 9"
   ]
  },
  {
   "cell_type": "code",
   "execution_count": 87,
   "metadata": {},
   "outputs": [
    {
     "ename": "TypeError",
     "evalue": "unsupported operand type(s) for +: 'int' and 'str'",
     "output_type": "error",
     "traceback": [
      "\u001b[1;31m---------------------------------------------------------------------------\u001b[0m",
      "\u001b[1;31mTypeError\u001b[0m                                 Traceback (most recent call last)",
      "\u001b[1;32m<ipython-input-87-dbe623ced8aa>\u001b[0m in \u001b[0;36m<module>\u001b[1;34m\u001b[0m\n\u001b[0;32m      1\u001b[0m \u001b[1;31m#TypeError\u001b[0m\u001b[1;33m\u001b[0m\u001b[1;33m\u001b[0m\u001b[1;33m\u001b[0m\u001b[0m\n\u001b[1;32m----> 2\u001b[1;33m \u001b[1;36m6\u001b[0m\u001b[1;33m+\u001b[0m\u001b[1;34m'a'\u001b[0m\u001b[1;33m\u001b[0m\u001b[1;33m\u001b[0m\u001b[0m\n\u001b[0m",
      "\u001b[1;31mTypeError\u001b[0m: unsupported operand type(s) for +: 'int' and 'str'"
     ]
    }
   ],
   "source": [
    "#TypeError\n",
    "6+'a'"
   ]
  },
  {
   "cell_type": "code",
   "execution_count": 83,
   "metadata": {},
   "outputs": [
    {
     "ename": "IndexError",
     "evalue": "list index out of range",
     "output_type": "error",
     "traceback": [
      "\u001b[1;31m---------------------------------------------------------------------------\u001b[0m",
      "\u001b[1;31mIndexError\u001b[0m                                Traceback (most recent call last)",
      "\u001b[1;32m<ipython-input-83-2e6ea3d40c60>\u001b[0m in \u001b[0;36m<module>\u001b[1;34m\u001b[0m\n\u001b[0;32m      1\u001b[0m \u001b[0mlist\u001b[0m\u001b[1;33m=\u001b[0m\u001b[1;33m[\u001b[0m\u001b[1;36m1\u001b[0m\u001b[1;33m,\u001b[0m\u001b[1;36m2\u001b[0m\u001b[1;33m,\u001b[0m\u001b[1;36m3\u001b[0m\u001b[1;33m,\u001b[0m\u001b[1;36m4\u001b[0m\u001b[1;33m,\u001b[0m\u001b[1;36m5\u001b[0m\u001b[1;33m,\u001b[0m\u001b[1;36m6\u001b[0m\u001b[1;33m,\u001b[0m\u001b[1;36m7\u001b[0m\u001b[1;33m,\u001b[0m\u001b[1;36m8\u001b[0m\u001b[1;33m,\u001b[0m\u001b[1;36m9\u001b[0m\u001b[1;33m,\u001b[0m\u001b[1;36m10\u001b[0m\u001b[1;33m]\u001b[0m\u001b[1;33m\u001b[0m\u001b[1;33m\u001b[0m\u001b[0m\n\u001b[1;32m----> 2\u001b[1;33m \u001b[0mlist\u001b[0m\u001b[1;33m[\u001b[0m\u001b[1;36m11\u001b[0m\u001b[1;33m]\u001b[0m\u001b[1;33m\u001b[0m\u001b[1;33m\u001b[0m\u001b[0m\n\u001b[0m",
      "\u001b[1;31mIndexError\u001b[0m: list index out of range"
     ]
    }
   ],
   "source": [
    "#IndexError\n",
    "list=[1,2,3,4,5,6,7,8,9,10]\n",
    "list[11]"
   ]
  },
  {
   "cell_type": "code",
   "execution_count": 84,
   "metadata": {},
   "outputs": [
    {
     "ename": "ValueError",
     "evalue": "math domain error",
     "output_type": "error",
     "traceback": [
      "\u001b[1;31m---------------------------------------------------------------------------\u001b[0m",
      "\u001b[1;31mValueError\u001b[0m                                Traceback (most recent call last)",
      "\u001b[1;32m<ipython-input-84-7ff522030b8c>\u001b[0m in \u001b[0;36m<module>\u001b[1;34m\u001b[0m\n\u001b[1;32m----> 1\u001b[1;33m \u001b[0mmath\u001b[0m\u001b[1;33m.\u001b[0m\u001b[0msqrt\u001b[0m\u001b[1;33m(\u001b[0m\u001b[1;33m-\u001b[0m\u001b[1;36m1.0\u001b[0m\u001b[1;33m)\u001b[0m\u001b[1;33m\u001b[0m\u001b[1;33m\u001b[0m\u001b[0m\n\u001b[0m",
      "\u001b[1;31mValueError\u001b[0m: math domain error"
     ]
    }
   ],
   "source": [
    "#ValueError\n",
    "math.sqrt(-1.0)"
   ]
  },
  {
   "cell_type": "code",
   "execution_count": 85,
   "metadata": {},
   "outputs": [
    {
     "ename": "NameError",
     "evalue": "name 'x' is not defined",
     "output_type": "error",
     "traceback": [
      "\u001b[1;31m---------------------------------------------------------------------------\u001b[0m",
      "\u001b[1;31mNameError\u001b[0m                                 Traceback (most recent call last)",
      "\u001b[1;32m<ipython-input-85-fc17d851ef81>\u001b[0m in \u001b[0;36m<module>\u001b[1;34m\u001b[0m\n\u001b[1;32m----> 1\u001b[1;33m \u001b[0mprint\u001b[0m\u001b[1;33m(\u001b[0m\u001b[0mx\u001b[0m\u001b[1;33m)\u001b[0m\u001b[1;33m\u001b[0m\u001b[1;33m\u001b[0m\u001b[0m\n\u001b[0m",
      "\u001b[1;31mNameError\u001b[0m: name 'x' is not defined"
     ]
    }
   ],
   "source": [
    "#NameError\n",
    "print(x)"
   ]
  },
  {
   "cell_type": "code",
   "execution_count": 86,
   "metadata": {},
   "outputs": [
    {
     "ename": "FileNotFoundError",
     "evalue": "[Errno 2] No such file or directory: 'bloodtype111.txt'",
     "output_type": "error",
     "traceback": [
      "\u001b[1;31m---------------------------------------------------------------------------\u001b[0m",
      "\u001b[1;31mFileNotFoundError\u001b[0m                         Traceback (most recent call last)",
      "\u001b[1;32m<ipython-input-86-6c5ed5105155>\u001b[0m in \u001b[0;36m<module>\u001b[1;34m\u001b[0m\n\u001b[1;32m----> 1\u001b[1;33m \u001b[0mname\u001b[0m \u001b[1;33m=\u001b[0m \u001b[0mopen\u001b[0m\u001b[1;33m(\u001b[0m\u001b[1;34m\"bloodtype111.txt\"\u001b[0m\u001b[1;33m)\u001b[0m\u001b[1;33m\u001b[0m\u001b[1;33m\u001b[0m\u001b[0m\n\u001b[0m",
      "\u001b[1;31mFileNotFoundError\u001b[0m: [Errno 2] No such file or directory: 'bloodtype111.txt'"
     ]
    }
   ],
   "source": [
    "#erroneous state errors\n",
    "name = open(\"bloodtype111.txt\")"
   ]
  },
  {
   "cell_type": "markdown",
   "metadata": {},
   "source": [
    "# Question 10\n"
   ]
  },
  {
   "cell_type": "code",
   "execution_count": 29,
   "metadata": {},
   "outputs": [
    {
     "name": "stdout",
     "output_type": "stream",
     "text": [
      "{'T': 1, 'h': 2, 'e': 5, ' ': 8, 'q': 1, 'u': 1, 'i': 1, 'c': 1, 'k': 1, 'r': 2, 'd': 3, 'f': 1, 'o': 4, 'x': 1, 'g': 1, 't': 2, 'b': 1, 'a': 1, 'n': 2, 'w': 1, 'm': 1}\n"
     ]
    }
   ],
   "source": [
    "#string= \"The quick red fox got bored and went home\"\n",
    "def check_aphabet(string1):\n",
    "    letters = [i for i in s.lower() if i in 'abcdefghijklmnopqrstuvwxyz']\n",
    "    for i in range(len(letters) - 1):\n",
    "        if letters[i] > letters[i+1]:\n",
    "            return print(string1, \"is not only letters\")\n",
    "    return print(string1,  \" letters\")\n",
    "\n",
    "string1 = str(\"The quick red fox got bored and went home\")\n",
    "frequencies = {} \n",
    "for  char in string1: \n",
    "   if  char in frequencies: \n",
    "      frequencies[char] += 1\n",
    "   else: \n",
    "      frequencies[char] = 1\n",
    "\n",
    "print (frequencies)\n"
   ]
  },
  {
   "cell_type": "code",
   "execution_count": 30,
   "metadata": {},
   "outputs": [
    {
     "name": "stdout",
     "output_type": "stream",
     "text": [
      "{'a': 1, 'p': 2, 'l': 1, 'e': 1}\n"
     ]
    }
   ],
   "source": [
    "#string= \"apple\"\n",
    "def check_aphabet(string1):\n",
    "    letters = [i for i in s.lower() if i in 'abcdefghijklmnopqrstuvwxyz']\n",
    "    for i in range(len(letters) - 1):\n",
    "        if letters[i] > letters[i+1]:\n",
    "            return print(string1, \"is not only letters\")\n",
    "    return print(string1,  \" letters\")\n",
    "\n",
    "string1 = str(\"apple\")\n",
    "frequencies = {} \n",
    "for  char in string1: \n",
    "   if  char in frequencies: \n",
    "      frequencies[char] += 1\n",
    "   else: \n",
    "      frequencies[char] = 1\n",
    "\n",
    "print (frequencies)\n"
   ]
  }
 ],
 "metadata": {
  "kernelspec": {
   "display_name": "Python 3",
   "language": "python",
   "name": "python3"
  },
  "language_info": {
   "codemirror_mode": {
    "name": "ipython",
    "version": 3
   },
   "file_extension": ".py",
   "mimetype": "text/x-python",
   "name": "python",
   "nbconvert_exporter": "python",
   "pygments_lexer": "ipython3",
   "version": "3.8.5"
  }
 },
 "nbformat": 4,
 "nbformat_minor": 4
}
